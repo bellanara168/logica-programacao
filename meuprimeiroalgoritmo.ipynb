{
  "nbformat": 4,
  "nbformat_minor": 0,
  "metadata": {
    "colab": {
      "provenance": [],
      "authorship_tag": "ABX9TyOjPehHDt/Y/l1/naUuEW5x",
      "include_colab_link": true
    },
    "kernelspec": {
      "name": "python3",
      "display_name": "Python 3"
    },
    "language_info": {
      "name": "python"
    }
  },
  "cells": [
    {
      "cell_type": "markdown",
      "metadata": {
        "id": "view-in-github",
        "colab_type": "text"
      },
      "source": [
        "<a href=\"https://colab.research.google.com/github/bellanara168/logica-programacao/blob/main/meuprimeiroalgoritmo.ipynb\" target=\"_parent\"><img src=\"https://colab.research.google.com/assets/colab-badge.svg\" alt=\"Open In Colab\"/></a>"
      ]
    },
    {
      "cell_type": "markdown",
      "source": [
        "# Documentação\n",
        "Operadores Aritméticos"
      ],
      "metadata": {
        "id": "XI7CvDVy0wwo"
      }
    },
    {
      "cell_type": "code",
      "source": [
        "# Adição\n",
        "10 + 2"
      ],
      "metadata": {
        "id": "c5YxEwav15az",
        "colab": {
          "base_uri": "https://localhost:8080/"
        },
        "outputId": "3af84260-37bc-46a6-c14c-3a3de6b6b40a"
      },
      "execution_count": null,
      "outputs": [
        {
          "output_type": "execute_result",
          "data": {
            "text/plain": [
              "12"
            ]
          },
          "metadata": {},
          "execution_count": 1
        }
      ]
    },
    {
      "cell_type": "code",
      "source": [
        "# Subtração\n",
        "10-2"
      ],
      "metadata": {
        "id": "a_ju69_514Ss",
        "colab": {
          "base_uri": "https://localhost:8080/"
        },
        "outputId": "dbe0a9b2-2540-43b3-9db3-23461c1da208"
      },
      "execution_count": null,
      "outputs": [
        {
          "output_type": "execute_result",
          "data": {
            "text/plain": [
              "8"
            ]
          },
          "metadata": {},
          "execution_count": 2
        }
      ]
    },
    {
      "cell_type": "code",
      "source": [
        "# Multiplicação\n",
        "10*2"
      ],
      "metadata": {
        "id": "MGy8pZe61fui",
        "colab": {
          "base_uri": "https://localhost:8080/"
        },
        "outputId": "8670bf92-7815-4c97-daba-cb708e6b3e77"
      },
      "execution_count": null,
      "outputs": [
        {
          "output_type": "execute_result",
          "data": {
            "text/plain": [
              "20"
            ]
          },
          "metadata": {},
          "execution_count": 3
        }
      ]
    },
    {
      "cell_type": "code",
      "source": [
        "# Divisão\n",
        "10/2"
      ],
      "metadata": {
        "colab": {
          "base_uri": "https://localhost:8080/"
        },
        "id": "Gcjb5hM5pmVR",
        "outputId": "84fa7e92-5bcf-482b-cc5f-31edac32f284"
      },
      "execution_count": null,
      "outputs": [
        {
          "output_type": "execute_result",
          "data": {
            "text/plain": [
              "5.0"
            ]
          },
          "metadata": {},
          "execution_count": 4
        }
      ]
    },
    {
      "cell_type": "code",
      "source": [
        "# Divisão inteira\n",
        "10//2"
      ],
      "metadata": {
        "colab": {
          "base_uri": "https://localhost:8080/"
        },
        "id": "X3w6X8septmw",
        "outputId": "ba26bda8-c5d5-4e99-cc38-053c708d31d9"
      },
      "execution_count": null,
      "outputs": [
        {
          "output_type": "execute_result",
          "data": {
            "text/plain": [
              "5"
            ]
          },
          "metadata": {},
          "execution_count": 5
        }
      ]
    },
    {
      "cell_type": "code",
      "source": [
        "#Resto da divisão\n",
        "10 % 2"
      ],
      "metadata": {
        "colab": {
          "base_uri": "https://localhost:8080/"
        },
        "id": "EosD7g4bpzB2",
        "outputId": "d0c93fa3-8f2c-4b41-866c-1bb950251b4e"
      },
      "execution_count": null,
      "outputs": [
        {
          "output_type": "execute_result",
          "data": {
            "text/plain": [
              "0"
            ]
          },
          "metadata": {},
          "execution_count": 6
        }
      ]
    },
    {
      "cell_type": "code",
      "source": [
        "# Potenciação\n",
        "10**2"
      ],
      "metadata": {
        "colab": {
          "base_uri": "https://localhost:8080/"
        },
        "id": "_ptMlCXPp7y_",
        "outputId": "2da2b522-a57e-4218-b55e-82a9a5f73e91"
      },
      "execution_count": null,
      "outputs": [
        {
          "output_type": "execute_result",
          "data": {
            "text/plain": [
              "100"
            ]
          },
          "metadata": {},
          "execution_count": 7
        }
      ]
    },
    {
      "cell_type": "markdown",
      "source": [
        "Operadores relacionais"
      ],
      "metadata": {
        "id": "LHXljoN1qDGf"
      }
    },
    {
      "cell_type": "code",
      "source": [
        "# Menor\n",
        "10 < 2"
      ],
      "metadata": {
        "id": "RlWfcegDvVFQ",
        "colab": {
          "base_uri": "https://localhost:8080/"
        },
        "outputId": "c48aece0-e56e-4450-a4c2-6971515cdc1d"
      },
      "execution_count": null,
      "outputs": [
        {
          "output_type": "execute_result",
          "data": {
            "text/plain": [
              "False"
            ]
          },
          "metadata": {},
          "execution_count": 1
        }
      ]
    },
    {
      "cell_type": "code",
      "source": [
        "# Menor ou igual\n",
        "10 <= 2"
      ],
      "metadata": {
        "colab": {
          "base_uri": "https://localhost:8080/"
        },
        "id": "Vt43sxQ65Ry5",
        "outputId": "b5d6e594-b1ef-4564-c421-8d2f5e48dd78"
      },
      "execution_count": null,
      "outputs": [
        {
          "output_type": "execute_result",
          "data": {
            "text/plain": [
              "False"
            ]
          },
          "metadata": {},
          "execution_count": 2
        }
      ]
    },
    {
      "cell_type": "code",
      "source": [
        "# Maior\n",
        "10 > 2"
      ],
      "metadata": {
        "id": "U3BWQPpG5cXj",
        "colab": {
          "base_uri": "https://localhost:8080/"
        },
        "outputId": "238e11f7-7d92-40a5-dea0-3e1e8096852a"
      },
      "execution_count": null,
      "outputs": [
        {
          "output_type": "execute_result",
          "data": {
            "text/plain": [
              "True"
            ]
          },
          "metadata": {},
          "execution_count": 3
        }
      ]
    },
    {
      "cell_type": "code",
      "source": [
        "# Maior ou igual\n",
        "10 >= 2"
      ],
      "metadata": {
        "colab": {
          "base_uri": "https://localhost:8080/"
        },
        "id": "EmL91QQk5uFF",
        "outputId": "826816a0-ea8c-44e2-b4ad-dbdb91774fdd"
      },
      "execution_count": null,
      "outputs": [
        {
          "output_type": "execute_result",
          "data": {
            "text/plain": [
              "True"
            ]
          },
          "metadata": {},
          "execution_count": 4
        }
      ]
    },
    {
      "cell_type": "code",
      "source": [
        "# Igual\n",
        "7 == 7"
      ],
      "metadata": {
        "colab": {
          "base_uri": "https://localhost:8080/"
        },
        "id": "IBcxiWoN5099",
        "outputId": "c236fa93-f44a-4849-aafd-075855793c95"
      },
      "execution_count": null,
      "outputs": [
        {
          "output_type": "execute_result",
          "data": {
            "text/plain": [
              "True"
            ]
          },
          "metadata": {},
          "execution_count": 7
        }
      ]
    },
    {
      "cell_type": "code",
      "source": [
        "# Diferente\n",
        "7 != 7"
      ],
      "metadata": {
        "colab": {
          "base_uri": "https://localhost:8080/"
        },
        "id": "WPkk7ZGs5-6o",
        "outputId": "aa1ab0f3-6003-4af6-a4db-e1d3e6e66a0c"
      },
      "execution_count": null,
      "outputs": [
        {
          "output_type": "execute_result",
          "data": {
            "text/plain": [
              "False"
            ]
          },
          "metadata": {},
          "execution_count": 8
        }
      ]
    },
    {
      "cell_type": "markdown",
      "source": [
        "Operadores Lógicos\n",
        "\n",
        "\n",
        "\n",
        "*   And\n",
        "*   Or\n",
        "* Not\n"
      ],
      "metadata": {
        "id": "nyVLbUrn6WMv"
      }
    },
    {
      "cell_type": "markdown",
      "source": [
        "Tabela Verdade\n",
        "\n",
        "And"
      ],
      "metadata": {
        "id": "IrxSjOMC6wFO"
      }
    },
    {
      "cell_type": "code",
      "source": [
        "print (10 > 2 and 4 < 6)      # V and V - V\n",
        "print (10 > 2 and 4 > 6)      # V and F - F\n",
        "print (10 < 2 and 4 < 6)      # V and F - F\n",
        "print (10 < 2 and 4 > 6)      # F and F - F"
      ],
      "metadata": {
        "colab": {
          "base_uri": "https://localhost:8080/"
        },
        "id": "slWD0XmM64Zt",
        "outputId": "745645eb-8060-436f-96c1-e7ff05f2b38e"
      },
      "execution_count": null,
      "outputs": [
        {
          "output_type": "stream",
          "name": "stdout",
          "text": [
            "True\n",
            "False\n",
            "False\n",
            "False\n"
          ]
        }
      ]
    },
    {
      "cell_type": "markdown",
      "source": [
        "Or"
      ],
      "metadata": {
        "id": "xYJhPFGt8ljS"
      }
    },
    {
      "cell_type": "code",
      "source": [
        "print (10 > 2 or 4 < 6)       # V or V - V\n",
        "print (10 > 2 or 4 > 6)       # V or F - F\n",
        "print (10 < 2 or 4 < 6)       # F or V - V\n",
        "print (10 < 2 or 4 < 6)       # F or F - F"
      ],
      "metadata": {
        "colab": {
          "base_uri": "https://localhost:8080/"
        },
        "id": "HbQm01im8o0K",
        "outputId": "c8e792eb-d4d6-4d32-b845-971f492456d8"
      },
      "execution_count": null,
      "outputs": [
        {
          "output_type": "stream",
          "name": "stdout",
          "text": [
            "True\n",
            "True\n",
            "True\n",
            "True\n"
          ]
        }
      ]
    },
    {
      "cell_type": "markdown",
      "source": [
        "Not"
      ],
      "metadata": {
        "id": "yybqu7Qn9sJw"
      }
    },
    {
      "cell_type": "code",
      "source": [
        "not 10 > 2       # V - F"
      ],
      "metadata": {
        "colab": {
          "base_uri": "https://localhost:8080/"
        },
        "id": "mmn-7ttM9vGo",
        "outputId": "34ab48fb-f832-4ac5-aa9c-140e0bc75b28"
      },
      "execution_count": null,
      "outputs": [
        {
          "output_type": "execute_result",
          "data": {
            "text/plain": [
              "False"
            ]
          },
          "metadata": {},
          "execution_count": 13
        }
      ]
    },
    {
      "cell_type": "code",
      "source": [
        "not 10 > 2       # F - V"
      ],
      "metadata": {
        "colab": {
          "base_uri": "https://localhost:8080/"
        },
        "id": "CACmt4-89_v_",
        "outputId": "6cd23827-981f-4123-dd2d-d1e73b0a7384"
      },
      "execution_count": null,
      "outputs": [
        {
          "output_type": "execute_result",
          "data": {
            "text/plain": [
              "False"
            ]
          },
          "metadata": {},
          "execution_count": 14
        }
      ]
    },
    {
      "cell_type": "markdown",
      "source": [
        "# Variáveis\n",
        "Variáveis estão alocadas em espaços da memória"
      ],
      "metadata": {
        "id": "q7ByShiC-esd"
      }
    },
    {
      "cell_type": "code",
      "source": [
        "# Nome da variável é \"x\" que armazena o valor 10 em um espaço da memória\n",
        "x = 10\n",
        "print (x) # Utilizar a referência no nome atribuído\n"
      ],
      "metadata": {
        "colab": {
          "base_uri": "https://localhost:8080/"
        },
        "id": "K_0BRyA4-wGP",
        "outputId": "305c3eb1-c356-4f89-e292-51c78b6b9820"
      },
      "execution_count": null,
      "outputs": [
        {
          "output_type": "stream",
          "name": "stdout",
          "text": [
            "10\n"
          ]
        }
      ]
    },
    {
      "cell_type": "code",
      "source": [
        "print(\"Conhecendo o comando print\")\n",
        "\n",
        "x = 8\n",
        "print (x)"
      ],
      "metadata": {
        "colab": {
          "base_uri": "https://localhost:8080/"
        },
        "id": "qUaP-bVHfogA",
        "outputId": "4e44c9e5-b0cf-4bf3-8aee-3bf4a0e4e540"
      },
      "execution_count": null,
      "outputs": [
        {
          "output_type": "stream",
          "name": "stdout",
          "text": [
            "Conhecendo o comando print\n",
            "8\n"
          ]
        }
      ]
    },
    {
      "cell_type": "code",
      "source": [
        "y = 10\n",
        "soma = x + y\n",
        "print (soma)"
      ],
      "metadata": {
        "colab": {
          "base_uri": "https://localhost:8080/"
        },
        "id": "0gt9J-DRgQP7",
        "outputId": "aef6f996-a5a7-48da-887d-dfb4652d521a"
      },
      "execution_count": null,
      "outputs": [
        {
          "output_type": "stream",
          "name": "stdout",
          "text": [
            "18\n"
          ]
        }
      ]
    },
    {
      "cell_type": "code",
      "source": [
        "nome = \"isabella nara\"\n",
        "print (nome)"
      ],
      "metadata": {
        "colab": {
          "base_uri": "https://localhost:8080/"
        },
        "id": "p0Y4PQlqgfc3",
        "outputId": "75290143-2e74-408d-a6b7-47cf819d3c0e"
      },
      "execution_count": null,
      "outputs": [
        {
          "output_type": "stream",
          "name": "stdout",
          "text": [
            "isabella nara\n"
          ]
        }
      ]
    },
    {
      "cell_type": "markdown",
      "source": [
        "Concatenação"
      ],
      "metadata": {
        "id": "jZWIWsnWg_n2"
      }
    },
    {
      "cell_type": "code",
      "source": [
        "x = 5\n",
        "print ('O valor de x é', x)"
      ],
      "metadata": {
        "colab": {
          "base_uri": "https://localhost:8080/"
        },
        "id": "-bJTI1x9hGeh",
        "outputId": "5e310e14-9de2-470b-a01f-f76c913711cc"
      },
      "execution_count": null,
      "outputs": [
        {
          "output_type": "stream",
          "name": "stdout",
          "text": [
            "O valor de x é 5\n"
          ]
        }
      ]
    },
    {
      "cell_type": "code",
      "source": [
        "print ('O valor de x é', x, 'e o dobro é', x * 2)"
      ],
      "metadata": {
        "colab": {
          "base_uri": "https://localhost:8080/"
        },
        "id": "xG8oc44AhrFY",
        "outputId": "890ca56e-a193-4dbe-ad0c-eb9b0a57ec24"
      },
      "execution_count": null,
      "outputs": [
        {
          "output_type": "stream",
          "name": "stdout",
          "text": [
            "O valor de x é 5 e o dobro é 10\n"
          ]
        }
      ]
    },
    {
      "cell_type": "code",
      "source": [
        "print ('Eu,', nome, 'tirei', x, 'na prova de Phyton')"
      ],
      "metadata": {
        "colab": {
          "base_uri": "https://localhost:8080/"
        },
        "id": "Zd7_xB8mh8ZD",
        "outputId": "f59dc2c4-bb8b-4d20-f099-6e2656e6860e"
      },
      "execution_count": null,
      "outputs": [
        {
          "output_type": "stream",
          "name": "stdout",
          "text": [
            "Eu, isabella nara tirei 5 na prova de Phyton\n"
          ]
        }
      ]
    },
    {
      "cell_type": "code",
      "source": [
        "y = 10; z = 20 + x - y\n",
        "print ('Declarar várias variáveis na mesma linha: ', y, z)"
      ],
      "metadata": {
        "colab": {
          "base_uri": "https://localhost:8080/"
        },
        "id": "z3nSYDM2jFQo",
        "outputId": "4e7d033a-04f7-4e12-f6ee-91a9580a3527"
      },
      "execution_count": null,
      "outputs": [
        {
          "output_type": "stream",
          "name": "stdout",
          "text": [
            "Declarar várias variáveis na mesma linha:  10 15\n"
          ]
        }
      ]
    },
    {
      "cell_type": "markdown",
      "source": [
        "Type"
      ],
      "metadata": {
        "id": "ALcC862ij4C9"
      }
    },
    {
      "cell_type": "code",
      "source": [
        "x = 10\n",
        "type (x)\n",
        "print ('x', type (x))\n",
        "\n",
        "nome = \"isabella\"\n",
        "print ('nome', type (nome))\n",
        "\n",
        "num = '100'\n",
        "num_convert = int(num)    # Converter variável\n",
        "print('num', type (num))\n",
        "print('num_convert', type (num_convert))\n",
        "\n",
        "num_float = float(num)\n",
        "print('num_float', num_float)"
      ],
      "metadata": {
        "id": "7A1PKWvgj3su",
        "colab": {
          "base_uri": "https://localhost:8080/"
        },
        "outputId": "d5699a8b-5bb4-4d47-a5dd-e0305cb3662c"
      },
      "execution_count": null,
      "outputs": [
        {
          "output_type": "stream",
          "name": "stdout",
          "text": [
            "x <class 'int'>\n",
            "nome <class 'str'>\n",
            "num <class 'str'>\n",
            "num_convert <class 'int'>\n",
            "num_float 100.0\n"
          ]
        }
      ]
    },
    {
      "cell_type": "markdown",
      "source": [
        "Input\n",
        "*   Armazenar a informação digitada pelo usuário em uma variável\n",
        "*   O dado armazenado sempre será um texto\n",
        "\n"
      ],
      "metadata": {
        "id": "grEBDDhG8GNC"
      }
    },
    {
      "cell_type": "code",
      "source": [
        "nome = input (\"Digite o nome do usuário\") # Aguardar o usuário digitar algo\n",
        "print(nome)"
      ],
      "metadata": {
        "colab": {
          "base_uri": "https://localhost:8080/"
        },
        "id": "EKlnUvHv8lY2",
        "outputId": "acb1e371-9f48-4fde-9208-bb79a7710f53"
      },
      "execution_count": null,
      "outputs": [
        {
          "output_type": "stream",
          "name": "stdout",
          "text": [
            "Digite o nome do usuário Isabella\n",
            " Isabella\n"
          ]
        }
      ]
    },
    {
      "cell_type": "code",
      "source": [
        "valor = input('Digite a nota ')\n",
        "print(nome, 'sua nota foi', valor)\n"
      ],
      "metadata": {
        "colab": {
          "base_uri": "https://localhost:8080/"
        },
        "id": "57-bAO6E9LZw",
        "outputId": "75fd2154-dac1-4ffe-b606-934d35f09d25"
      },
      "execution_count": null,
      "outputs": [
        {
          "output_type": "stream",
          "name": "stdout",
          "text": [
            "Digite a nota 7\n",
            " Isabella sua nota foi 7\n"
          ]
        }
      ]
    },
    {
      "cell_type": "code",
      "source": [
        "valor = input('Digite o valor do produto:')\n",
        "print(valor)"
      ],
      "metadata": {
        "colab": {
          "base_uri": "https://localhost:8080/"
        },
        "id": "wb159AgX9kek",
        "outputId": "966b46c1-a52f-4f90-ddd1-72e9c060f311"
      },
      "execution_count": null,
      "outputs": [
        {
          "output_type": "stream",
          "name": "stdout",
          "text": [
            "Digite o valor do produto:100\n",
            "100\n"
          ]
        }
      ]
    },
    {
      "cell_type": "code",
      "source": [
        "valor_convert = int(valor)\n",
        "desconto = valor_convert - 5\n",
        "print(desconto)"
      ],
      "metadata": {
        "colab": {
          "base_uri": "https://localhost:8080/"
        },
        "id": "loPTJd9Q-Vp0",
        "outputId": "38f3e4d3-037d-4d56-e1d0-db521fac1a13"
      },
      "execution_count": null,
      "outputs": [
        {
          "output_type": "stream",
          "name": "stdout",
          "text": [
            "95\n"
          ]
        }
      ]
    },
    {
      "cell_type": "code",
      "source": [
        "desconto = int(valor) - 5\n",
        "print(desconto)"
      ],
      "metadata": {
        "colab": {
          "base_uri": "https://localhost:8080/"
        },
        "id": "cjrtxJut-k-U",
        "outputId": "bcc8e8b5-63a0-4044-a0df-161f86410083"
      },
      "execution_count": null,
      "outputs": [
        {
          "output_type": "stream",
          "name": "stdout",
          "text": [
            "95\n"
          ]
        }
      ]
    },
    {
      "cell_type": "markdown",
      "source": [
        "Condicional"
      ],
      "metadata": {
        "id": "qGhWQEAV_Vt7"
      }
    },
    {
      "cell_type": "code",
      "source": [
        "# If\n",
        "if 5 < 10:\n",
        "  print('Verdade')"
      ],
      "metadata": {
        "colab": {
          "base_uri": "https://localhost:8080/"
        },
        "id": "yUKl93Nz_XGg",
        "outputId": "ef08a6ac-921e-4e05-9e6e-590fb52fb63d"
      },
      "execution_count": null,
      "outputs": [
        {
          "output_type": "stream",
          "name": "stdout",
          "text": [
            "Verdade\n"
          ]
        }
      ]
    },
    {
      "cell_type": "code",
      "source": [
        "# If/else\n",
        "num1 = 10\n",
        "num2 = 5\n",
        "if num1 > num2:\n",
        "  print ('O num1 é o maior número')\n",
        "\n",
        "else:\n",
        "    print('O num2 é o maior número')\n"
      ],
      "metadata": {
        "colab": {
          "base_uri": "https://localhost:8080/"
        },
        "id": "leOccQx7_d5X",
        "outputId": "213e4cc1-fcf4-45a9-aa1d-09a83925ffa3"
      },
      "execution_count": null,
      "outputs": [
        {
          "output_type": "stream",
          "name": "stdout",
          "text": [
            "O num1 é o maior número\n"
          ]
        }
      ]
    },
    {
      "cell_type": "code",
      "source": [
        "# If/ Elif / Else\n",
        "num1 = 10\n",
        "num2 = 10\n",
        "if num1 > num2:\n",
        "   print('O num1 é o maior número')\n",
        "elif num1 < num2:\n",
        "   print('O nun2 é o maior número')\n",
        "else:\n",
        "   print('Os dois são iguais')"
      ],
      "metadata": {
        "colab": {
          "base_uri": "https://localhost:8080/"
        },
        "id": "GVSwZK9GA9nc",
        "outputId": "d72d7fa3-fa31-4f73-eb58-9a820b5309b6"
      },
      "execution_count": null,
      "outputs": [
        {
          "output_type": "stream",
          "name": "stdout",
          "text": [
            "Os dois são iguais\n"
          ]
        }
      ]
    },
    {
      "cell_type": "markdown",
      "source": [
        "Condicional com operadores lógicos"
      ],
      "metadata": {
        "id": "Bz_MhyTrCZdm"
      }
    },
    {
      "cell_type": "code",
      "source": [
        "num1 = 10\n",
        "num2 = 5\n",
        "num3 = 2\n",
        "if (num1 > num2) and (num1 > num3):\n",
        "  print('O num1 é o maior número')\n",
        "elif num1 < num2:\n",
        "  print ('O num2 é o maior número')\n",
        "else:\n",
        "  print('Os dois são iguais')"
      ],
      "metadata": {
        "colab": {
          "base_uri": "https://localhost:8080/"
        },
        "id": "jBju8ErOCnVz",
        "outputId": "4d169d6c-bc40-4383-81a3-1d670196dfb2"
      },
      "execution_count": null,
      "outputs": [
        {
          "output_type": "stream",
          "name": "stdout",
          "text": [
            "O num1 é o maior número\n"
          ]
        }
      ]
    },
    {
      "cell_type": "markdown",
      "source": [
        "Condicional com operadores lógicos"
      ],
      "metadata": {
        "id": "h4U-qngxDmn2"
      }
    },
    {
      "cell_type": "code",
      "source": [
        "num1 = 10\n",
        "num2 = 5\n",
        "num3 = 2\n",
        "if (num1 > num2) and (num1 > num3):\n",
        "  print('O num1 é o maior número')\n",
        "else:\n",
        "  print ('O num1 não é o maior número')"
      ],
      "metadata": {
        "colab": {
          "base_uri": "https://localhost:8080/"
        },
        "id": "bFwPylGrDjLa",
        "outputId": "4f0628d7-56aa-46e6-8338-7d3cb6ae47e2"
      },
      "execution_count": null,
      "outputs": [
        {
          "output_type": "stream",
          "name": "stdout",
          "text": [
            "O num1 é o maior número\n"
          ]
        }
      ]
    },
    {
      "cell_type": "markdown",
      "source": [
        "Listas, tuplas e dicionários"
      ],
      "metadata": {
        "id": "2LGh9Gnfmy3A"
      }
    },
    {
      "cell_type": "code",
      "source": [
        "# Lista\n",
        "[1,2,3,4,5]"
      ],
      "metadata": {
        "id": "2JpZouiTm3aA"
      },
      "execution_count": null,
      "outputs": []
    },
    {
      "cell_type": "code",
      "source": [
        "# Tupla\n",
        "(1,2,3,4,5)"
      ],
      "metadata": {
        "id": "52LlyNf5m-jx"
      },
      "execution_count": null,
      "outputs": []
    },
    {
      "cell_type": "code",
      "source": [
        "# Dicionário\n",
        "{'num1': 1, 'num2': 2}"
      ],
      "metadata": {
        "id": "mnzO-TTwnFCP"
      },
      "execution_count": null,
      "outputs": []
    },
    {
      "cell_type": "markdown",
      "source": [
        "Lista"
      ],
      "metadata": {
        "id": "nuD8ArsgnsyI"
      }
    },
    {
      "cell_type": "code",
      "source": [
        "lista = [5, 'isabella', 8,9]"
      ],
      "metadata": {
        "id": "po6TU_h7nukc"
      },
      "execution_count": null,
      "outputs": []
    },
    {
      "cell_type": "code",
      "source": [
        "type (lista)"
      ],
      "metadata": {
        "colab": {
          "base_uri": "https://localhost:8080/"
        },
        "id": "iXutgMOJn6Wy",
        "outputId": "3851e6f8-44eb-4acd-f115-1fc44f3bf2e7"
      },
      "execution_count": null,
      "outputs": [
        {
          "output_type": "execute_result",
          "data": {
            "text/plain": [
              "list"
            ]
          },
          "metadata": {},
          "execution_count": 4
        }
      ]
    },
    {
      "cell_type": "code",
      "source": [
        "lista.append(\"Augusto\") # Adicionar um elemento na lista"
      ],
      "metadata": {
        "id": "U-e5fQp8oHP8"
      },
      "execution_count": null,
      "outputs": []
    },
    {
      "cell_type": "code",
      "source": [
        "print(lista)\n",
        "print(lista[1])"
      ],
      "metadata": {
        "colab": {
          "base_uri": "https://localhost:8080/"
        },
        "id": "HH5eoaYQop0m",
        "outputId": "72ad46f5-e62c-44a4-b577-17a1d79af8cd"
      },
      "execution_count": null,
      "outputs": [
        {
          "output_type": "stream",
          "name": "stdout",
          "text": [
            "[5, 'isabella', 8, 9, 'Augusto', 'Augusto']\n",
            "isabella\n"
          ]
        }
      ]
    },
    {
      "cell_type": "markdown",
      "source": [
        "Tupla"
      ],
      "metadata": {
        "id": "s_woNiglpI71"
      }
    },
    {
      "cell_type": "code",
      "source": [
        "tupla = (5, 'isabella', 8,9)"
      ],
      "metadata": {
        "id": "5XSYwbq4pKtD"
      },
      "execution_count": null,
      "outputs": []
    },
    {
      "cell_type": "code",
      "source": [
        "type(tupla)"
      ],
      "metadata": {
        "colab": {
          "base_uri": "https://localhost:8080/"
        },
        "id": "gGGT4_rSpXBI",
        "outputId": "364eafef-c630-4d77-ffb3-b0d46295031b"
      },
      "execution_count": null,
      "outputs": [
        {
          "output_type": "execute_result",
          "data": {
            "text/plain": [
              "tuple"
            ]
          },
          "metadata": {},
          "execution_count": 9
        }
      ]
    },
    {
      "cell_type": "code",
      "source": [
        "print(tupla)"
      ],
      "metadata": {
        "colab": {
          "base_uri": "https://localhost:8080/"
        },
        "id": "RlogurkvpjWR",
        "outputId": "a64e3b44-f5da-44e2-c416-19868d586319"
      },
      "execution_count": null,
      "outputs": [
        {
          "output_type": "stream",
          "name": "stdout",
          "text": [
            "(5, 'isabella', 8, 9)\n"
          ]
        }
      ]
    },
    {
      "cell_type": "markdown",
      "source": [
        "Dicionário"
      ],
      "metadata": {
        "id": "lcCfPPJ7ppEo"
      }
    },
    {
      "cell_type": "code",
      "source": [
        "dicionario = {'nome': 'isabella', 'cidade': 'Recife'}"
      ],
      "metadata": {
        "id": "l57Uv3Ojprab"
      },
      "execution_count": null,
      "outputs": []
    },
    {
      "cell_type": "code",
      "source": [
        "type(dicionario)"
      ],
      "metadata": {
        "colab": {
          "base_uri": "https://localhost:8080/"
        },
        "id": "0c6kH5g-qA71",
        "outputId": "80ff0cf8-ae48-42fc-96ca-6cd134815346"
      },
      "execution_count": null,
      "outputs": [
        {
          "output_type": "execute_result",
          "data": {
            "text/plain": [
              "dict"
            ]
          },
          "metadata": {},
          "execution_count": 12
        }
      ]
    },
    {
      "cell_type": "code",
      "source": [
        "print(dicionario[\"nome\"])"
      ],
      "metadata": {
        "colab": {
          "base_uri": "https://localhost:8080/"
        },
        "id": "nl15-wuBqMtt",
        "outputId": "24a3fcb7-ec38-4a81-e100-ba81ff35e880"
      },
      "execution_count": null,
      "outputs": [
        {
          "output_type": "stream",
          "name": "stdout",
          "text": [
            "isabella\n"
          ]
        }
      ]
    },
    {
      "cell_type": "code",
      "source": [
        "dicionario['ultimo nome'] = 'Alves'"
      ],
      "metadata": {
        "id": "YVe3_T2Nqg1v"
      },
      "execution_count": null,
      "outputs": []
    },
    {
      "cell_type": "code",
      "source": [
        "print(dicionario)"
      ],
      "metadata": {
        "colab": {
          "base_uri": "https://localhost:8080/"
        },
        "id": "R3_Tpfypqvgs",
        "outputId": "d1a6434b-9d25-4c1c-fcb8-f6cf8d3cdd0f"
      },
      "execution_count": null,
      "outputs": [
        {
          "output_type": "stream",
          "name": "stdout",
          "text": [
            "{'nome': 'isabella', 'cidade': 'Recife', 'ultimo nome': 'Alves'}\n"
          ]
        }
      ]
    },
    {
      "cell_type": "markdown",
      "source": [
        "For"
      ],
      "metadata": {
        "id": "lH0PXGaFs5n9"
      }
    },
    {
      "cell_type": "code",
      "source": [
        "# For Range\n",
        "for contador in range(10):\n",
        "  print (contador)"
      ],
      "metadata": {
        "colab": {
          "base_uri": "https://localhost:8080/"
        },
        "id": "0Lc070Ehs7aL",
        "outputId": "2367fda2-77e5-4011-b912-0137a7ca00df"
      },
      "execution_count": null,
      "outputs": [
        {
          "output_type": "stream",
          "name": "stdout",
          "text": [
            "0\n",
            "1\n",
            "2\n",
            "3\n",
            "4\n",
            "5\n",
            "6\n",
            "7\n",
            "8\n",
            "9\n"
          ]
        }
      ]
    },
    {
      "cell_type": "code",
      "source": [
        "# For Range + Break\n",
        "for contador in range (1000):\n",
        "  print (contador)\n",
        "  if contador == 2:\n",
        "    break"
      ],
      "metadata": {
        "colab": {
          "base_uri": "https://localhost:8080/"
        },
        "id": "IonZa6n5tUDe",
        "outputId": "990a8509-4a06-4726-aeec-fd6834229293"
      },
      "execution_count": null,
      "outputs": [
        {
          "output_type": "stream",
          "name": "stdout",
          "text": [
            "0\n",
            "1\n",
            "2\n"
          ]
        }
      ]
    },
    {
      "cell_type": "code",
      "source": [
        "lista = [\"Teste1\", \"Teste2\"]"
      ],
      "metadata": {
        "id": "UCtApf6Ftx0i"
      },
      "execution_count": null,
      "outputs": []
    },
    {
      "cell_type": "code",
      "source": [
        "#For Simples\n",
        "for val in lista:\n",
        "  print(val)"
      ],
      "metadata": {
        "colab": {
          "base_uri": "https://localhost:8080/"
        },
        "id": "PCywEB9DuCoO",
        "outputId": "4447fda0-c8b4-462e-9601-7b951aa8fbfd"
      },
      "execution_count": null,
      "outputs": [
        {
          "output_type": "stream",
          "name": "stdout",
          "text": [
            "Teste1\n",
            "Teste2\n"
          ]
        }
      ]
    },
    {
      "cell_type": "code",
      "source": [
        "#for com Enumarate\n",
        "for i, val in enumerate(lista):\n",
        "  print(i, val)"
      ],
      "metadata": {
        "colab": {
          "base_uri": "https://localhost:8080/"
        },
        "id": "dils5AhJuVYe",
        "outputId": "ed04cce3-54ba-4c11-cd37-59109e55ba50"
      },
      "execution_count": null,
      "outputs": [
        {
          "output_type": "stream",
          "name": "stdout",
          "text": [
            "0 Teste1\n",
            "1 Teste2\n"
          ]
        }
      ]
    },
    {
      "cell_type": "markdown",
      "source": [
        "For com operadores compostos"
      ],
      "metadata": {
        "id": "zub6FgNjuqt_"
      }
    },
    {
      "cell_type": "code",
      "source": [
        "lista2 = [2, 3, 4]"
      ],
      "metadata": {
        "id": "5lrkbqKwwWUm"
      },
      "execution_count": null,
      "outputs": []
    },
    {
      "cell_type": "code",
      "source": [
        "for val in lista2:\n",
        "  val += 1\n",
        "  print(val)"
      ],
      "metadata": {
        "colab": {
          "base_uri": "https://localhost:8080/"
        },
        "id": "FLaXbl71wdKL",
        "outputId": "f75e75b8-6c2b-4b36-82d0-9e62fc26987c"
      },
      "execution_count": null,
      "outputs": [
        {
          "output_type": "stream",
          "name": "stdout",
          "text": [
            "3\n",
            "4\n",
            "5\n"
          ]
        }
      ]
    },
    {
      "cell_type": "code",
      "source": [
        "for val in lista2:\n",
        "  val *= 1\n",
        "  print(val)"
      ],
      "metadata": {
        "colab": {
          "base_uri": "https://localhost:8080/"
        },
        "id": "TkBqhtmMwo_L",
        "outputId": "04886414-4190-4fe6-90e9-a2ac90b12ec3"
      },
      "execution_count": null,
      "outputs": [
        {
          "output_type": "stream",
          "name": "stdout",
          "text": [
            "2\n",
            "3\n",
            "4\n"
          ]
        }
      ]
    },
    {
      "cell_type": "markdown",
      "source": [
        "While"
      ],
      "metadata": {
        "id": "hPeShkg5yNp9"
      }
    },
    {
      "cell_type": "code",
      "source": [
        "val = 1\n",
        "while (val > 6):\n",
        "  val *=2\n",
        "  print(val)"
      ],
      "metadata": {
        "id": "Ik5OAtZmyPG7"
      },
      "execution_count": null,
      "outputs": []
    },
    {
      "cell_type": "code",
      "source": [
        "# While com else\n",
        "val = 4\n",
        "while val < 6:\n",
        "  val *=2\n",
        "else:\n",
        "  print ('Valor de val é:', val)"
      ],
      "metadata": {
        "colab": {
          "base_uri": "https://localhost:8080/"
        },
        "id": "-LEygB1YylWT",
        "outputId": "8a6e3d52-a08b-488f-a7f3-ed248bad0625"
      },
      "execution_count": null,
      "outputs": [
        {
          "output_type": "stream",
          "name": "stdout",
          "text": [
            "Valor de val é: 8\n"
          ]
        }
      ]
    },
    {
      "cell_type": "code",
      "source": [
        "nome = input(\"Digite seu nome:\") # Obtém o nome do usuário\n",
        "print(\"Olá,\" + nome + \"!\")"
      ],
      "metadata": {
        "colab": {
          "base_uri": "https://localhost:8080/"
        },
        "id": "Uz4DKSqTYMjW",
        "outputId": "a42f6364-dc08-4ca1-c006-45ebbc2dd1fc"
      },
      "execution_count": null,
      "outputs": [
        {
          "output_type": "stream",
          "name": "stdout",
          "text": [
            "Digite seu nome:isabella\n",
            "Olá,isabella!\n"
          ]
        }
      ]
    },
    {
      "cell_type": "code",
      "source": [
        "# Verificação de senha simples\n",
        "\n",
        "# Definir a senha permitida\n",
        "senha_permitida=\"12345\"\n",
        "\n",
        "# Solicitar a senha do usuário\n",
        "senha_usuario = input(\"Digite a senha: \")\n",
        "\n",
        "# Verificar se a senha está correta\n",
        "if senha_usuario == senha_permitida:\n",
        "  print(\"Acesso permitido!\")\n",
        "else:\n",
        "  print(\"Senha incorreta. Acesso negado.\")"
      ],
      "metadata": {
        "colab": {
          "base_uri": "https://localhost:8080/"
        },
        "id": "mthocX3EaQMK",
        "outputId": "05288e5c-d64e-40f9-edad-f942189a8c50"
      },
      "execution_count": null,
      "outputs": [
        {
          "output_type": "stream",
          "name": "stdout",
          "text": [
            "Digite a senha: 12345\n",
            "Acesso permitido!\n"
          ]
        }
      ]
    },
    {
      "cell_type": "code",
      "source": [
        "frutas = [\"maçã\", \"banana\", \"laranja\", \"uva\"]"
      ],
      "metadata": {
        "id": "_DAF7o4mjsXM"
      },
      "execution_count": null,
      "outputs": []
    },
    {
      "cell_type": "code",
      "source": [
        "frutas[0]"
      ],
      "metadata": {
        "colab": {
          "base_uri": "https://localhost:8080/",
          "height": 35
        },
        "id": "2p-z90VqkJfY",
        "outputId": "e1c265f3-c06a-4e1a-f40a-dafc67eb9aec"
      },
      "execution_count": null,
      "outputs": [
        {
          "output_type": "execute_result",
          "data": {
            "text/plain": [
              "'maçã'"
            ],
            "application/vnd.google.colaboratory.intrinsic+json": {
              "type": "string"
            }
          },
          "metadata": {},
          "execution_count": 7
        }
      ]
    },
    {
      "cell_type": "code",
      "source": [
        "# Organizando dados de feedback de clientes\n",
        "# Lista de feedbacks\n",
        "feedbacks = [\"Ótimo serviço!\", \"Produto excelente\", \"Atendimento rápido\"]\n",
        "# Dicionário com informações de um cliente\n",
        "cliente = {\n",
        "     \"nome\": \"Maria\",\n",
        "     \"idade\": 28,\n",
        "     \"feedback\": \"Muito satisfeita\"\n",
        "}\n",
        "# Imprimir os feedbacks da lista\n",
        "print(\"Feedbacks dos clientes:\")\n",
        "for feedback in feedbacks:\n",
        "  print(\"- \" + feedback)\n",
        "# Imprimir informações do cliente\n",
        "print(\"\\nInformações do cliente:\")\n",
        "print(\"Nome:\", cliente[\"nome\"])\n",
        "print(\"Idade:\", cliente[\"idade\"])\n",
        "print(\"Feedback:\", cliente[\"feedback\"])"
      ],
      "metadata": {
        "colab": {
          "base_uri": "https://localhost:8080/"
        },
        "id": "XMair9B6mL0C",
        "outputId": "e588f4c9-e054-4345-8eed-801a3256e23c"
      },
      "execution_count": null,
      "outputs": [
        {
          "output_type": "stream",
          "name": "stdout",
          "text": [
            "Feedbacks dos clientes:\n",
            "- Ótimo serviço!\n",
            "- Produto excelente\n",
            "- Atendimento rápido\n",
            "\n",
            "Informações do cliente:\n",
            "Nome: Maria\n",
            "Idade: 28\n",
            "Feedback: Muito satisfeita\n"
          ]
        }
      ]
    },
    {
      "cell_type": "code",
      "source": [
        "contador = 0\n",
        "while contador < 5:\n",
        " print(\"Isso é a iteração número\", contador)\n",
        "contador += 1"
      ],
      "metadata": {
        "id": "XdK_KlAlptA2"
      },
      "execution_count": null,
      "outputs": []
    },
    {
      "cell_type": "code",
      "source": [
        "frutas = [\"maçã\", \"banana\", \"laranja\"]\n",
        "for fruta in frutas:\n",
        "  print(\"Eu gosto de\", fruta)"
      ],
      "metadata": {
        "colab": {
          "base_uri": "https://localhost:8080/"
        },
        "id": "Zsp-C5n8qukQ",
        "outputId": "89bab380-7446-4486-a1fa-5135db8fd030"
      },
      "execution_count": null,
      "outputs": [
        {
          "output_type": "stream",
          "name": "stdout",
          "text": [
            "Eu gosto de maçã\n",
            "Eu gosto de banana\n",
            "Eu gosto de laranja\n"
          ]
        }
      ]
    },
    {
      "cell_type": "code",
      "source": [
        "# Lista de notas dos alunos\n",
        "notas = [85,92,78,90,88]"
      ],
      "metadata": {
        "id": "oI19RssCrFZ6"
      },
      "execution_count": null,
      "outputs": []
    },
    {
      "cell_type": "code",
      "source": [
        "# Calcula a média das notas\n",
        "soma = 0\n",
        "for nota in notas:\n",
        "  soma+=nota\n",
        "  media = soma / len (notas)"
      ],
      "metadata": {
        "id": "eaMLheckrTBu"
      },
      "execution_count": null,
      "outputs": []
    },
    {
      "cell_type": "code",
      "source": [
        "# # Classifica os alunos com base na média\n",
        "alunos_aprovados = []\n",
        "alunos_reprovados = []\n",
        "for nota in notas:\n",
        "  if nota >= media:\n",
        "    alunos_aprovados.append(nota)\n",
        "  else:\n",
        "      alunos_reprovados.append(nota)"
      ],
      "metadata": {
        "id": "vZ_6r6-trq1Q"
      },
      "execution_count": null,
      "outputs": []
    },
    {
      "cell_type": "code",
      "source": [
        "# Imprime os resultados\n",
        "print(\"Notas dos alunos:\", notas)\n",
        "print(\"Média das notas:\", media)\n",
        "print(\"Alunos aprovados:\", alunos_aprovados)\n",
        "print(\"Alunos reprovados:\", alunos_reprovados)"
      ],
      "metadata": {
        "colab": {
          "base_uri": "https://localhost:8080/"
        },
        "id": "PMnjdndysOiC",
        "outputId": "887acbcd-db00-4fcb-ae33-370247de6119"
      },
      "execution_count": null,
      "outputs": [
        {
          "output_type": "stream",
          "name": "stdout",
          "text": [
            "Notas dos alunos: [85, 92, 78, 90, 88]\n",
            "Média das notas: 86.6\n",
            "Alunos aprovados: [92, 90, 88]\n",
            "Alunos reprovados: [85, 78]\n"
          ]
        }
      ]
    },
    {
      "cell_type": "code",
      "source": [
        "# Solicita o nome do usuário e o exibe\n",
        "nome_usuario = input(\"Por favor, insira seu nome: \")\n",
        "print(f\"Olá, {nome_usuario}! Bem-vindo ao nosso sistema.\")\n",
        "\n",
        "# Solicita a idade do usuário e converte para inteiro\n",
        "idade_usuario = int(input(\"Por favor, insira sua idade: \"))\n",
        "\n",
        "# Verifica se o usuário é maior de idade\n",
        "if idade_usuario >= 18:\n",
        "    print(\"Você é maior de idade.\")\n",
        "else:\n",
        "    print(\"Você é menor de idade.\")"
      ],
      "metadata": {
        "colab": {
          "base_uri": "https://localhost:8080/"
        },
        "id": "wBfnxWTfwZ0N",
        "outputId": "9c656c53-dfe3-460b-d924-f7e6b5a38dc7"
      },
      "execution_count": null,
      "outputs": [
        {
          "output_type": "stream",
          "name": "stdout",
          "text": [
            "Por favor, insira seu nome: isabella\n",
            "Olá, isabella! Bem-vindo ao nosso sistema.\n",
            "Por favor, insira sua idade: 31\n",
            "Você é maior de idade.\n"
          ]
        }
      ]
    },
    {
      "cell_type": "code",
      "source": [
        "if True:\n",
        " print(\"Indentação correta\")"
      ],
      "metadata": {
        "colab": {
          "base_uri": "https://localhost:8080/"
        },
        "id": "nIkxnKFudjNu",
        "outputId": "b31a0c42-a257-476d-e3f1-cd052955b63c"
      },
      "execution_count": null,
      "outputs": [
        {
          "output_type": "stream",
          "name": "stdout",
          "text": [
            "Indentação correta\n"
          ]
        }
      ]
    },
    {
      "cell_type": "code",
      "source": [
        "x = 10\n",
        "if x == 10:\n",
        "    print(\"Operador correto\")"
      ],
      "metadata": {
        "colab": {
          "base_uri": "https://localhost:8080/"
        },
        "id": "8YVOPtIAdwsd",
        "outputId": "c908622c-5844-4d81-c042-bada3238bba8"
      },
      "execution_count": null,
      "outputs": [
        {
          "output_type": "stream",
          "name": "stdout",
          "text": [
            "Operador correto\n"
          ]
        }
      ]
    },
    {
      "cell_type": "code",
      "source": [
        "idade = int(input(\"Digite sua idade: \"))\n",
        "if idade > 18:\n",
        "    print(\"Maior de idade\")"
      ],
      "metadata": {
        "colab": {
          "base_uri": "https://localhost:8080/"
        },
        "id": "J8nbGYhleK0w",
        "outputId": "c7c602e0-efc0-42fa-ddd1-a4ce982a2fbd"
      },
      "execution_count": null,
      "outputs": [
        {
          "output_type": "stream",
          "name": "stdout",
          "text": [
            "Digite sua idade: 31\n",
            "Maior de idade\n"
          ]
        }
      ]
    },
    {
      "cell_type": "code",
      "source": [
        "total = 0\n",
        "total = total + 1\n",
        "print(total)"
      ],
      "metadata": {
        "colab": {
          "base_uri": "https://localhost:8080/"
        },
        "id": "FlgfIQgVeXaL",
        "outputId": "2f7cc75e-21ef-4b71-c4d6-392f0c64b31d"
      },
      "execution_count": null,
      "outputs": [
        {
          "output_type": "stream",
          "name": "stdout",
          "text": [
            "1\n"
          ]
        }
      ]
    },
    {
      "cell_type": "code",
      "source": [
        "idade = 20\n",
        "renda = 3000\n",
        "if (idade > 18 and renda > 2000) or idade < 25:\n",
        "  print (\"Aprovado\")"
      ],
      "metadata": {
        "colab": {
          "base_uri": "https://localhost:8080/"
        },
        "id": "5mzFy1b3enYy",
        "outputId": "de341a70-4f19-4015-9ec7-cd9f6ea03f74"
      },
      "execution_count": null,
      "outputs": [
        {
          "output_type": "stream",
          "name": "stdout",
          "text": [
            "Aprovado\n"
          ]
        }
      ]
    }
  ]
}