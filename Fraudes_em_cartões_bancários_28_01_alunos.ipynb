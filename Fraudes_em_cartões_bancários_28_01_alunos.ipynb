{
  "nbformat": 4,
  "nbformat_minor": 0,
  "metadata": {
    "colab": {
      "provenance": [],
      "include_colab_link": true
    },
    "kernelspec": {
      "name": "python3",
      "display_name": "Python 3"
    },
    "language_info": {
      "name": "python"
    }
  },
  "cells": [
    {
      "cell_type": "markdown",
      "metadata": {
        "id": "view-in-github",
        "colab_type": "text"
      },
      "source": [
        "<a href=\"https://colab.research.google.com/github/bellanara168/logica-programacao/blob/feature_3/Fraudes_em_cart%C3%B5es_banc%C3%A1rios_28_01_alunos.ipynb\" target=\"_parent\"><img src=\"https://colab.research.google.com/assets/colab-badge.svg\" alt=\"Open In Colab\"/></a>"
      ]
    },
    {
      "cell_type": "markdown",
      "source": [
        "# Análise de dados para identificar possíveis fraudes em cartões bancários\n",
        "\n",
        "\n"
      ],
      "metadata": {
        "id": "X_UcZfV71R62"
      }
    },
    {
      "cell_type": "markdown",
      "source": [
        "## Prof. Dra. Isadora Ferrão\n",
        "Redes sociais:\n",
        "*   https://www.instagram.com/isadora.ferrao/\n",
        "*   https://www.linkedin.com/in/isadora-ferrao/\n"
      ],
      "metadata": {
        "id": "g077E1D21ubs"
      }
    },
    {
      "cell_type": "markdown",
      "source": [
        "# Credit Card Fraud Detection\n",
        "\n",
        " **Problema**: É importante que as empresas de cartão de crédito sejam capazes de reconhecer transações fraudulentas de cartão de crédito para que os clientes não sejam cobrados por itens que não compraram. Fraude é qualquer ação deliberada de enganar ou ludibriar em benefício próprio (ex.: uso indevido de cartão de crédito).\n",
        "\n",
        " **Solução**: A análise de dados ajuda a combater fraudes ao identificar comportamentos atípicos (outliers) em grandes volumes de transações. Por meio de técnicas estatísticas e de aprendizado de máquina, é possível detectar padrões suspeitos e alertar sobre possíveis fraudes de forma mais rápida e precisa, reduzindo perdas financeiras e melhorando a segurança.\n",
        "\n",
        "**Disponível em**: https://www.kaggle.com/datasets/mlg-ulb/creditcardfraud\n",
        "\n",
        "O conjunto de dados contém transações feitas por cartões de crédito em setembro de 2013 por titulares de cartão europeus. Este conjunto de dados apresenta transações que ocorreram em dois dias, onde temos 492 fraudes de 284.807 transações. O conjunto de dados é altamente desbalanceado, a classe positiva (fraudes) é responsável por 0,172% de todas as transações.\n",
        "\n"
      ],
      "metadata": {
        "id": "SmCYzOb51VX8"
      }
    },
    {
      "cell_type": "markdown",
      "source": [
        "# Importação das bibliotecas\n",
        "\n"
      ],
      "metadata": {
        "id": "HgEPmHzq3HiY"
      }
    },
    {
      "cell_type": "code",
      "source": [
        "import pandas as pd\n",
        "import numpy as np\n",
        "import matplotlib.pyplot as plt\n",
        "import seaborn as sns\n",
        "\n",
        "# Scikit-learn\n",
        "from sklearn.ensemble import IsolationForest, RandomForestClassifier\n",
        "from sklearn.model_selection import train_test_split, StratifiedKFold, cross_validate\n",
        "from sklearn.metrics import confusion_matrix, classification_report, f1_score, precision_score, recall_score\n",
        "\n",
        "# Para balanceamento\n",
        "!pip install imbalanced-learn --quiet\n",
        "from imblearn.over_sampling import SMOTE\n",
        "from imblearn.pipeline import Pipeline"
      ],
      "metadata": {
        "id": "bv5OyLW13hgd"
      },
      "execution_count": null,
      "outputs": []
    },
    {
      "cell_type": "markdown",
      "source": [
        "# Carregamento do dataset"
      ],
      "metadata": {
        "id": "XBEuciNp3maX"
      }
    },
    {
      "cell_type": "code",
      "source": [
        "# Carregar o dataset (ajuste o caminho local conforme necessário)\n",
        "\n",
        "# Ver as 5 primeiras linhas\n"
      ],
      "metadata": {
        "id": "E8kRC70S3rw6"
      },
      "execution_count": null,
      "outputs": []
    },
    {
      "cell_type": "code",
      "source": [
        "# Informações gerais do DataFrame\n"
      ],
      "metadata": {
        "id": "tKY0KibS3zUL"
      },
      "execution_count": null,
      "outputs": []
    },
    {
      "cell_type": "code",
      "source": [
        "# Resumo estatístico\n"
      ],
      "metadata": {
        "id": "WQ8S3bSB-iwP"
      },
      "execution_count": null,
      "outputs": []
    },
    {
      "cell_type": "markdown",
      "source": [
        "# Análise Exploratória"
      ],
      "metadata": {
        "id": "PYuopDXM3vo2"
      }
    },
    {
      "cell_type": "code",
      "source": [
        "# Contagem de fraudes vs não fraudes\n",
        "#print(\"=== Distribuição da variável 'Class' ===\")\n",
        "#print(df['Class'].value_counts())\n",
        "#num_fraudes = df[df['Class'] == 1].shape[0]\n",
        "#num_legit = df[df['Class'] == 0].shape[0]\n",
        "#print(f\"Fraudes: {num_fraudes}, Não Fraudes: {num_legit}\")\n",
        "#print(f\"Proporção de fraudes: {100 * num_fraudes / (num_fraudes + num_legit):.4f}%\\n\")"
      ],
      "metadata": {
        "id": "WlRXmYHz349J"
      },
      "execution_count": null,
      "outputs": []
    },
    {
      "cell_type": "code",
      "source": [
        "# Plot de distribuição: Fraudes vs Não Fraudes"
      ],
      "metadata": {
        "id": "8FvZeJGV-pYk"
      },
      "execution_count": null,
      "outputs": []
    },
    {
      "cell_type": "code",
      "source": [
        "# Distribuição do 'Amount'"
      ],
      "metadata": {
        "id": "MfnfraUS39el"
      },
      "execution_count": null,
      "outputs": []
    },
    {
      "cell_type": "markdown",
      "source": [
        "# Pré-Processamento"
      ],
      "metadata": {
        "id": "tdaK9j904Ucv"
      }
    },
    {
      "cell_type": "code",
      "source": [
        "#Normalização\n",
        "\n",
        "# Exemplo: Normalizar a coluna Amount\n",
        "\n",
        "\n",
        "\n",
        "# Reduzindo o tamanho do dataset para testes mais rápidos"
      ],
      "metadata": {
        "id": "mqbNgd_F4XdY"
      },
      "execution_count": null,
      "outputs": []
    },
    {
      "cell_type": "markdown",
      "source": [
        "## Detecção de Fraudes (Outliers) com Isolation Forest\n",
        "\n",
        "A Isolation Forest é um algoritmo específico para detecção de anomalias (outliers). Ele “isola” pontos que são poucos frequentes ou têm características muito diferentes do restante dos dados. É útil aqui porque não exige rótulos para treinar: pode ser aplicado como um método não supervisionado."
      ],
      "metadata": {
        "id": "i41iNKk24kD7"
      }
    },
    {
      "cell_type": "code",
      "source": [],
      "metadata": {
        "id": "AoRGmWvh4sAr"
      },
      "execution_count": null,
      "outputs": []
    },
    {
      "cell_type": "markdown",
      "source": [
        "## Avaliação do Modelo"
      ],
      "metadata": {
        "id": "mH8qMr9v4yW3"
      }
    },
    {
      "cell_type": "code",
      "source": [
        "# Matriz de confusão\n",
        "\n",
        "\"\"\"from sklearn.metrics import confusion_matrix, classification_report\n",
        "\n",
        "cm = confusion_matrix(target, df['IF_Pred'])\n",
        "tn, fp, fn, tp = cm.ravel()\n",
        "\n",
        "plt.figure(figsize=(5,4))\n",
        "sns.heatmap(cm, annot=True, fmt='d', cmap='Blues')\n",
        "plt.title('Matriz de Confusão - Isolation Forest')\n",
        "plt.xlabel('Previsto')\n",
        "plt.ylabel('Real')\n",
        "plt.show()\n",
        "\n",
        "print(\"Verdadeiros Negativos (TN):\", tn)\n",
        "print(\"Falsos Positivos (FP):\", fp)\n",
        "print(\"Falsos Negativos (FN):\", fn)\n",
        "print(\"Verdadeiros Positivos (TP):\", tp)\"\"\""
      ],
      "metadata": {
        "id": "9tgtFr5W41Ad"
      },
      "execution_count": null,
      "outputs": []
    },
    {
      "cell_type": "code",
      "source": [
        "# Precisão, Recall, F1-Score\n",
        "\n",
        "\"\"\"report = classification_report(target, df['IF_Pred'])\n",
        "print(report)\"\"\""
      ],
      "metadata": {
        "id": "c1PaRROb434B"
      },
      "execution_count": null,
      "outputs": []
    },
    {
      "cell_type": "code",
      "source": [
        "# Calcular Acurácia, Precisão, Recall e F1 manualmente se quiser\n",
        "\"\"\"accuracy_if = (tp + tn) / (tn + fp + fn + tp)\n",
        "precision_if = tp / (tp + fp) if (tp+fp) > 0 else 0\n",
        "recall_if = tp / (tp + fn) if (tp+fn) > 0 else 0\n",
        "f1_if = (2 * precision_if * recall_if) / (precision_if + recall_if) if (precision_if + recall_if) else 0\n",
        "\n",
        "print(f\"Acurácia (IF): {accuracy_if:.4f}\")\n",
        "print(f\"Precisão (IF): {precision_if:.4f}\")\n",
        "print(f\"Recall (IF):   {recall_if:.4f}\")\n",
        "print(f\"F1-Score (IF): {f1_if:.4f}\")\"\"\""
      ],
      "metadata": {
        "id": "bLMv-2An_J1H"
      },
      "execution_count": null,
      "outputs": []
    },
    {
      "cell_type": "markdown",
      "source": [
        "## Validação Cruzada e Balanceamento\n",
        "SMOTE + RandomForest"
      ],
      "metadata": {
        "id": "5pz8dZTb_Q0w"
      }
    },
    {
      "cell_type": "code",
      "source": [
        "print(\"\\n=== Abordagem Supervisionada (SMOTE + RandomForest) ===\")\n",
        "\n",
        "#from sklearn.model_selection import StratifiedKFold, cross_validate\n",
        "\n",
        "# Pipeline: SMOTE => RandomForest\n",
        "#model_pipeline = Pipeline([\n",
        "    #('smote', SMOTE(random_state=42)),\n",
        "    #('rf', RandomForestClassifier(n_estimators=50, max_depth=10, random_state=42))  # Classificador simplificado\n",
        "#])\n",
        "\n",
        "# Configurar K-Fold estratificado\n",
        "#skf = StratifiedKFold(n_splits=5, shuffle=True, random_state=42)\n",
        "#skf = StratifiedKFold(n_splits=3, shuffle=True, random_state=42)  # Reduzido para 3 folds"
      ],
      "metadata": {
        "id": "p5MZQzAS_Ner"
      },
      "execution_count": null,
      "outputs": []
    },
    {
      "cell_type": "code",
      "source": [
        "# Vamos avaliar Precision, Recall e F1 no CV\n",
        "scoring = {\n",
        "    'precision': 'precision',\n",
        "    'recall': 'recall',\n",
        "    'f1': 'f1'\n",
        "}"
      ],
      "metadata": {
        "id": "78XPS3pa_dQ4"
      },
      "execution_count": null,
      "outputs": []
    },
    {
      "cell_type": "code",
      "source": [
        "# Executar a validação cruzada\n",
        "results = cross_validate(model_pipeline, X, y,\n",
        "                         scoring=scoring,\n",
        "                         cv=skf,\n",
        "                         return_train_score=False,\n",
        "                         n_jobs=-1)"
      ],
      "metadata": {
        "id": "pfNaUsV4_gY8"
      },
      "execution_count": null,
      "outputs": []
    },
    {
      "cell_type": "code",
      "source": [
        "# Média das métricas\n",
        "precision_cv = np.mean(results['test_precision'])\n",
        "recall_cv = np.mean(results['test_recall'])\n",
        "f1_cv = np.mean(results['test_f1'])\n",
        "\n",
        "print(f\"Precision (média 5-Fold): {precision_cv:.4f}\")\n",
        "print(f\"Recall (média 5-Fold):    {recall_cv:.4f}\")\n",
        "print(f\"F1-Score (média 5-Fold):  {f1_cv:.4f}\")"
      ],
      "metadata": {
        "id": "8HAQmXiD_jDS"
      },
      "execution_count": null,
      "outputs": []
    },
    {
      "cell_type": "markdown",
      "source": [
        "Discussão rápida:\n",
        "\n",
        "\n"
      ],
      "metadata": {
        "id": "22eDDV5n_pyR"
      }
    }
  ]
}