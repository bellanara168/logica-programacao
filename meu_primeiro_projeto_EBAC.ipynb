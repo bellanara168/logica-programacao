{
  "cells": [
    {
      "cell_type": "markdown",
      "metadata": {
        "id": "view-in-github",
        "colab_type": "text"
      },
      "source": [
        "<a href=\"https://colab.research.google.com/github/bellanara168/logica-programacao/blob/main/meu_primeiro_projeto_EBAC.ipynb\" target=\"_parent\"><img src=\"https://colab.research.google.com/assets/colab-badge.svg\" alt=\"Open In Colab\"/></a>"
      ]
    },
    {
      "cell_type": "code",
      "source": [
        "valor = input('Digite o valor')\n",
        "print(valor)"
      ],
      "metadata": {
        "id": "TmvKPEnDrdUv",
        "outputId": "776ef07f-60b9-432c-c73e-6732a7c56ba1",
        "colab": {
          "base_uri": "https://localhost:8080/"
        }
      },
      "execution_count": null,
      "outputs": [
        {
          "output_type": "stream",
          "name": "stdout",
          "text": [
            "Digite o valor100\n",
            "100\n"
          ]
        }
      ]
    },
    {
      "cell_type": "code",
      "source": [
        "valor_convert = int(valor)\n",
        "desconto = valor_convert - 5\n",
        "print(desconto)"
      ],
      "metadata": {
        "id": "pNPXrosws-ma",
        "outputId": "e6936af2-e9f9-4e09-ed29-b93f7b7a808a",
        "colab": {
          "base_uri": "https://localhost:8080/"
        }
      },
      "execution_count": null,
      "outputs": [
        {
          "output_type": "stream",
          "name": "stdout",
          "text": [
            "95\n"
          ]
        }
      ]
    },
    {
      "cell_type": "code",
      "source": [
        "valor_convert = int(valor)\n",
        "dobro = valor_convert * 2\n",
        "print(dobro)"
      ],
      "metadata": {
        "id": "OeOKNHoytVCt",
        "outputId": "b5f6fa9e-91f0-4c3b-bc69-7c185f1f4459",
        "colab": {
          "base_uri": "https://localhost:8080/"
        }
      },
      "execution_count": null,
      "outputs": [
        {
          "output_type": "stream",
          "name": "stdout",
          "text": [
            "200\n"
          ]
        }
      ]
    },
    {
      "cell_type": "code",
      "source": [
        "valor_convert = int(valor)\n",
        "soma = valor_convert + 10\n",
        "print(soma)"
      ],
      "metadata": {
        "id": "ePXVmGv_ttkc",
        "outputId": "6d2a3f10-9f36-4040-8536-cc5cf1bf7574",
        "colab": {
          "base_uri": "https://localhost:8080/"
        }
      },
      "execution_count": null,
      "outputs": [
        {
          "output_type": "stream",
          "name": "stdout",
          "text": [
            "110\n"
          ]
        }
      ]
    },
    {
      "cell_type": "code",
      "source": [
        "valor_convert = int(valor)\n",
        "metade = valor_convert / 2\n",
        "print(metade)"
      ],
      "metadata": {
        "id": "1Mk_txD4t5To",
        "outputId": "fed80942-da0b-489c-e002-fcbb2192f1cf",
        "colab": {
          "base_uri": "https://localhost:8080/"
        }
      },
      "execution_count": null,
      "outputs": [
        {
          "output_type": "stream",
          "name": "stdout",
          "text": [
            "50.0\n"
          ]
        }
      ]
    },
    {
      "cell_type": "code",
      "source": [
        "#If\n",
        "if 100 > 95:\n",
        "  print('Verdade')"
      ],
      "metadata": {
        "id": "gkwZdbMhuJbE",
        "outputId": "5b87e3ac-d525-4a95-8b45-4b1e1e2f731d",
        "colab": {
          "base_uri": "https://localhost:8080/"
        }
      },
      "execution_count": null,
      "outputs": [
        {
          "output_type": "stream",
          "name": "stdout",
          "text": [
            "Verdade\n"
          ]
        }
      ]
    }
  ],
  "metadata": {
    "colab": {
      "provenance": [],
      "include_colab_link": true
    },
    "kernelspec": {
      "display_name": "Python 3",
      "name": "python3"
    }
  },
  "nbformat": 4,
  "nbformat_minor": 0
}